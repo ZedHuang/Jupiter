{
 "cells": [
  {
   "cell_type": "code",
   "execution_count": 1,
   "metadata": {},
   "outputs": [],
   "source": [
    "import numpy as np\n",
    "import os\n",
    "import matplotlib.pyplot as plt\n",
    "import cv2\n",
    "from tensorflow.keras.callbacks import TensorBoard\n",
    "DATADIR=\"C:/Users/huang/Desktop/2019 Summer/kagglecatsanddogs_3367a/PetImages\""
   ]
  },
  {
   "cell_type": "code",
   "execution_count": 2,
   "metadata": {},
   "outputs": [],
   "source": [
    "CATEGORIES=[\"Dog\",\"Cat\"]\n",
    "import time\n",
    "Name=\"Cats-vs-dog-cnn-{}\".format(int(time.time()))\n",
    "tensorboard=TensorBoard(log_dir=r'C:\\Users\\huang\\Desktop\\log\\{}'.format(Name))"
   ]
  },
  {
   "cell_type": "code",
   "execution_count": 3,
   "metadata": {},
   "outputs": [],
   "source": [
    "IMG_SIZE=50"
   ]
  },
  {
   "cell_type": "code",
   "execution_count": 4,
   "metadata": {},
   "outputs": [],
   "source": [
    "training_data=[]\n",
    "def create_training_data():\n",
    "    for category in CATEGORIES:\n",
    "        path=os.path.join(DATADIR,category)\n",
    "        class_num=CATEGORIES.index(category)\n",
    "        for img in os.listdir(path):\n",
    "            try:\n",
    "                img_array=cv2.imread(os.path.join(path,img),cv2.IMREAD_GRAYSCALE)\n",
    "                new_array=cv2.resize(img_array,(IMG_SIZE,IMG_SIZE))\n",
    "                training_data.append([new_array,class_num])\n",
    "            except Exception as e:\n",
    "                pass\n",
    "create_training_data()"
   ]
  },
  {
   "cell_type": "code",
   "execution_count": 5,
   "metadata": {},
   "outputs": [
    {
     "data": {
      "text/plain": [
       "24946"
      ]
     },
     "execution_count": 5,
     "metadata": {},
     "output_type": "execute_result"
    }
   ],
   "source": [
    "len(training_data)"
   ]
  },
  {
   "cell_type": "code",
   "execution_count": 6,
   "metadata": {},
   "outputs": [
    {
     "name": "stdout",
     "output_type": "stream",
     "text": [
      "0\n",
      "0\n",
      "0\n",
      "0\n",
      "0\n",
      "0\n",
      "0\n",
      "0\n",
      "0\n",
      "0\n",
      "0\n",
      "0\n",
      "0\n",
      "0\n",
      "0\n",
      "0\n",
      "0\n",
      "0\n",
      "0\n",
      "0\n"
     ]
    }
   ],
   "source": [
    "for sample in training_data[:20]:\n",
    "    print(sample[1])"
   ]
  },
  {
   "cell_type": "code",
   "execution_count": 7,
   "metadata": {},
   "outputs": [
    {
     "name": "stdout",
     "output_type": "stream",
     "text": [
      "0\n",
      "1\n",
      "1\n",
      "0\n",
      "1\n",
      "0\n",
      "0\n",
      "1\n",
      "0\n",
      "0\n",
      "1\n",
      "1\n",
      "1\n",
      "1\n",
      "0\n",
      "1\n",
      "0\n",
      "0\n",
      "0\n",
      "0\n"
     ]
    }
   ],
   "source": [
    "import random\n",
    "random.shuffle(training_data)\n",
    "for sample in training_data[:20]:\n",
    "    print(sample[1])"
   ]
  },
  {
   "cell_type": "code",
   "execution_count": 8,
   "metadata": {},
   "outputs": [],
   "source": [
    "X=[]\n",
    "y=[]\n",
    "unpack=[x for [a,x] in training_data]"
   ]
  },
  {
   "cell_type": "code",
   "execution_count": 9,
   "metadata": {},
   "outputs": [
    {
     "name": "stdout",
     "output_type": "stream",
     "text": [
      "[[    0     1]\n",
      " [12470 12476]]\n"
     ]
    }
   ],
   "source": [
    "unique_elements,count_elements=np.unique(unpack,return_counts=True)\n",
    "print(np.asarray((unique_elements,count_elements)))"
   ]
  },
  {
   "cell_type": "code",
   "execution_count": 10,
   "metadata": {},
   "outputs": [],
   "source": [
    "for features,label in training_data:\n",
    "    X.append(features)\n",
    "    y.append(label)\n"
   ]
  },
  {
   "cell_type": "code",
   "execution_count": 11,
   "metadata": {
    "scrolled": true
   },
   "outputs": [
    {
     "name": "stdout",
     "output_type": "stream",
     "text": [
      "[[ 97  94  60 ... 157 190 126]\n",
      " [100  96  61 ... 181 131 108]\n",
      " [ 99  95  63 ... 110 149 104]\n",
      " ...\n",
      " [ 78  77  78 ... 150 146 127]\n",
      " [ 75  78  76 ... 155 151 138]\n",
      " [ 73  73  76 ... 150 151 141]]\n"
     ]
    },
    {
     "data": {
      "text/plain": [
       "(50, 50)"
      ]
     },
     "execution_count": 11,
     "metadata": {},
     "output_type": "execute_result"
    }
   ],
   "source": [
    "for a in range(1):\n",
    "    print(X[a])\n",
    "X[0].shape"
   ]
  },
  {
   "cell_type": "code",
   "execution_count": 18,
   "metadata": {},
   "outputs": [
    {
     "data": {
      "text/plain": [
       "(50, 50, 1)"
      ]
     },
     "execution_count": 18,
     "metadata": {},
     "output_type": "execute_result"
    }
   ],
   "source": [
    "X_cp=X\n",
    "X_cp=np.array(X_cp).reshape(-1,IMG_SIZE,IMG_SIZE,1)\n",
    "X_cp[0].shape"
   ]
  },
  {
   "cell_type": "code",
   "execution_count": 16,
   "metadata": {},
   "outputs": [],
   "source": [
    "X=np.array(X).reshape(-1,IMG_SIZE,IMG_SIZE,1)"
   ]
  },
  {
   "cell_type": "code",
   "execution_count": 17,
   "metadata": {},
   "outputs": [
    {
     "name": "stdout",
     "output_type": "stream",
     "text": [
      "[[[ 97]\n",
      "  [ 94]\n",
      "  [ 60]\n",
      "  ...\n",
      "  [157]\n",
      "  [190]\n",
      "  [126]]\n",
      "\n",
      " [[100]\n",
      "  [ 96]\n",
      "  [ 61]\n",
      "  ...\n",
      "  [181]\n",
      "  [131]\n",
      "  [108]]\n",
      "\n",
      " [[ 99]\n",
      "  [ 95]\n",
      "  [ 63]\n",
      "  ...\n",
      "  [110]\n",
      "  [149]\n",
      "  [104]]\n",
      "\n",
      " ...\n",
      "\n",
      " [[ 78]\n",
      "  [ 77]\n",
      "  [ 78]\n",
      "  ...\n",
      "  [150]\n",
      "  [146]\n",
      "  [127]]\n",
      "\n",
      " [[ 75]\n",
      "  [ 78]\n",
      "  [ 76]\n",
      "  ...\n",
      "  [155]\n",
      "  [151]\n",
      "  [138]]\n",
      "\n",
      " [[ 73]\n",
      "  [ 73]\n",
      "  [ 76]\n",
      "  ...\n",
      "  [150]\n",
      "  [151]\n",
      "  [141]]]\n"
     ]
    },
    {
     "data": {
      "text/plain": [
       "(50, 50, 1)"
      ]
     },
     "execution_count": 17,
     "metadata": {},
     "output_type": "execute_result"
    }
   ],
   "source": [
    "for a in range(1):\n",
    "    print(X[a])\n",
    "X[0].shape"
   ]
  },
  {
   "cell_type": "code",
   "execution_count": 14,
   "metadata": {},
   "outputs": [],
   "source": [
    "import pickle\n",
    "pickle_out=open(\"X_pickle\",\"wb\")\n",
    "pickle.dump(X,pickle_out)\n",
    "pickle_out.close()\n",
    "\n",
    "pickle_out=open(\"y_pickle\",\"wb\")\n",
    "pickle.dump(y,pickle_out)\n",
    "pickle_out.close()"
   ]
  },
  {
   "cell_type": "code",
   "execution_count": 15,
   "metadata": {},
   "outputs": [],
   "source": [
    "import tensorflow as tf\n",
    "from tensorflow.keras.models import Sequential\n",
    "from tensorflow.keras.layers import Dense,Dropout,Activation,Flatten,Conv2D,MaxPooling2D\n",
    "\n"
   ]
  },
  {
   "cell_type": "code",
   "execution_count": 16,
   "metadata": {},
   "outputs": [],
   "source": [
    "sess=tf.Session()\n",
    "file_writer = tf.summary.FileWriter(r'C:\\Users\\huang\\Desktop\\log',tf.get_default_graph())\n",
    "file_writer.flush()\n",
    "file_writer.close()"
   ]
  },
  {
   "cell_type": "code",
   "execution_count": 40,
   "metadata": {},
   "outputs": [
    {
     "name": "stdout",
     "output_type": "stream",
     "text": [
      "Train on 17462 samples, validate on 7484 samples\n",
      "Epoch 1/10\n",
      "17462/17462 [==============================] - 5s 302us/sample - loss: 0.6933 - acc: 0.5026 - val_loss: 0.6931 - val_acc: 0.5013\n",
      "Epoch 2/10\n",
      "17462/17462 [==============================] - 5s 286us/sample - loss: 0.6932 - acc: 0.5014 - val_loss: 0.6931 - val_acc: 0.5013\n",
      "Epoch 3/10\n",
      "17462/17462 [==============================] - 5s 285us/sample - loss: 0.6932 - acc: 0.4990 - val_loss: 0.6931 - val_acc: 0.5013\n",
      "Epoch 4/10\n",
      "17462/17462 [==============================] - 5s 286us/sample - loss: 0.6932 - acc: 0.4949 - val_loss: 0.6932 - val_acc: 0.4987\n",
      "Epoch 5/10\n",
      "17462/17462 [==============================] - 5s 287us/sample - loss: 0.6932 - acc: 0.5019 - val_loss: 0.6931 - val_acc: 0.5013\n",
      "Epoch 6/10\n",
      "17462/17462 [==============================] - 5s 287us/sample - loss: 0.6932 - acc: 0.4936 - val_loss: 0.6931 - val_acc: 0.5013\n",
      "Epoch 7/10\n",
      "17462/17462 [==============================] - 5s 288us/sample - loss: 0.6932 - acc: 0.4989 - val_loss: 0.6932 - val_acc: 0.4987\n",
      "Epoch 8/10\n",
      "17462/17462 [==============================] - 5s 287us/sample - loss: 0.6932 - acc: 0.4997 - val_loss: 0.6932 - val_acc: 0.4987\n",
      "Epoch 9/10\n",
      "17462/17462 [==============================] - 5s 287us/sample - loss: 0.6932 - acc: 0.4948 - val_loss: 0.6931 - val_acc: 0.5013\n",
      "Epoch 10/10\n",
      "17462/17462 [==============================] - 5s 294us/sample - loss: 0.6932 - acc: 0.4970 - val_loss: 0.6931 - val_acc: 0.5013\n"
     ]
    },
    {
     "data": {
      "text/plain": [
       "<tensorflow.python.keras.callbacks.History at 0x206888eda58>"
      ]
     },
     "execution_count": 40,
     "metadata": {},
     "output_type": "execute_result"
    }
   ],
   "source": [
    "X=X/255.0\n",
    "model=Sequential()\n",
    "model.add(Conv2D(64,(3,3),input_shape=X.shape[1:]))\n",
    "model.add(Activation(\"relu\"))\n",
    "model.add(MaxPooling2D(pool_size=(2,2)))\n",
    "\n",
    "model.add(Conv2D(64,(3,3)))\n",
    "model.add(Activation(\"relu\"))\n",
    "model.add(MaxPooling2D(pool_size=(2,2)))\n",
    "\n",
    "model.add(Conv2D(64,(3,3)))\n",
    "model.add(Activation(\"relu\"))\n",
    "model.add(MaxPooling2D(pool_size=(2,2)))\n",
    "\n",
    "model.add(Flatten())\n",
    "#model.add(Dense(64))\n",
    "#model.add(Activation(\"relu\"))\n",
    "\n",
    "model.add(Dense(1))\n",
    "model.add(Activation('sigmoid'))\n",
    "\n",
    "model.compile(loss='binary_crossentropy',\n",
    "             optimizer=\"adam\",\n",
    "             metrics=['accuracy'])\n",
    "model.fit(X,y,batch_size=32,epochs=10,validation_split=0.3,callbacks=[tensorboard])\n"
   ]
  },
  {
   "cell_type": "code",
   "execution_count": 41,
   "metadata": {},
   "outputs": [
    {
     "data": {
      "text/plain": [
       "(50, 50, 1)"
      ]
     },
     "execution_count": 41,
     "metadata": {},
     "output_type": "execute_result"
    }
   ],
   "source": [
    "X.shape[1:]"
   ]
  },
  {
   "cell_type": "code",
   "execution_count": 42,
   "metadata": {},
   "outputs": [
    {
     "name": "stdout",
     "output_type": "stream",
     "text": [
      "Cat\n"
     ]
    }
   ],
   "source": [
    "def prepare(filepath):\n",
    "    IMG_SIZE=50\n",
    "    img_array=cv2.imread(filepath,cv2.IMREAD_GRAYSCALE)\n",
    "    new_array=cv2.resize(img_array,(IMG_SIZE,IMG_SIZE))\n",
    "    return new_array.reshape(-1,IMG_SIZE,IMG_SIZE,1)\n",
    "prediction=model.predict(prepare('dog.jpg'))\n",
    "print(CATEGORIES[int(prediction[0][0])])"
   ]
  },
  {
   "cell_type": "code",
   "execution_count": 43,
   "metadata": {},
   "outputs": [
    {
     "name": "stdout",
     "output_type": "stream",
     "text": [
      "Dog\n"
     ]
    }
   ],
   "source": [
    "prediction_1=model.predict(prepare('cat.jpg'))\n",
    "print(CATEGORIES[int(prediction_1[0][0])])"
   ]
  },
  {
   "cell_type": "code",
   "execution_count": 44,
   "metadata": {},
   "outputs": [
    {
     "name": "stdout",
     "output_type": "stream",
     "text": [
      "Cat\n"
     ]
    }
   ],
   "source": [
    "prediction_2=model.predict(prepare('catcat.jpg'))\n",
    "print(CATEGORIES[int(prediction_2[0][0])])"
   ]
  }
 ],
 "metadata": {
  "kernelspec": {
   "display_name": "Python 3",
   "language": "python",
   "name": "python3"
  },
  "language_info": {
   "codemirror_mode": {
    "name": "ipython",
    "version": 3
   },
   "file_extension": ".py",
   "mimetype": "text/x-python",
   "name": "python",
   "nbconvert_exporter": "python",
   "pygments_lexer": "ipython3",
   "version": "3.7.3"
  }
 },
 "nbformat": 4,
 "nbformat_minor": 2
}
